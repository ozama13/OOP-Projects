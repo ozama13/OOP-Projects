{
 "cells": [
  {
   "cell_type": "markdown",
   "metadata": {},
   "source": [
    "Practice: Object-Oriented Progamming"
   ]
  },
  {
   "cell_type": "markdown",
   "metadata": {},
   "source": [
    "An object is anything with values in Python. All objects are instances of a data\n",
    "type.\n",
    "Data types are things like:\n",
    "-lists\n",
    "-dictionaries\n",
    "-strings\n",
    "-floats\n",
    "-tuples"
   ]
  },
  {
   "cell_type": "markdown",
   "metadata": {},
   "source": [
    "Classes:\n",
    "\n",
    "A class defines the properties of a data type. A class should be named using \n",
    "CamelCase. Classes insantiate objects. You can call classes like functions.\n",
    "\n",
    " SYNTAX;\n",
    "class ClassName():\n",
    "    body\n",
    "\n",
    "You may add arguments to a class if needed.\n",
    "\n",
    "Here is an example of creating a simple Car class:"
   ]
  },
  {
   "cell_type": "code",
   "execution_count": null,
   "metadata": {},
   "outputs": [],
   "source": [
    "class Car:\n",
    "    pass"
   ]
  },
  {
   "cell_type": "markdown",
   "metadata": {},
   "source": [
    "*Pass is non-operational*"
   ]
  },
  {
   "cell_type": "code",
   "execution_count": null,
   "metadata": {
    "vscode": {
     "languageId": "plaintext"
    }
   },
   "outputs": [],
   "source": [
    "Methods:\n",
    " A method is how to manipulaye a data type. A methof only exists in relation to\n",
    "an object. Methods use self as arguments to create an insatnce of that class.\n",
    "\n",
    "When can use the magic method __init_- to intialize attributes on new onjects \n",
    "and declare parameters.\n",
    "\n"
   ]
  },
  {
   "cell_type": "markdown",
   "metadata": {},
   "source": [
    "Attributes:\n",
    "\n",
    "Atrributes are values associated with an object. Arrtibutes exists beyond a method \n",
    "call, but can onlt live in a specific object's namespace. It is better to use a \n",
    "class and give it attributes rather than using a global variable."
   ]
  },
  {
   "cell_type": "markdown",
   "metadata": {},
   "source": [
    "Here is an exmaple of creating a simple Car class and using the __init__ method \n",
    "to give it attributes:"
   ]
  },
  {
   "cell_type": "code",
   "execution_count": null,
   "metadata": {},
   "outputs": [],
   "source": [
    "class Car:\n",
    "    def __init__(self,year, brand, model):\n",
    "        self.year = year\n",
    "        self.brand = brand\n",
    "        self.model = model\n"
   ]
  }
 ],
 "metadata": {
  "language_info": {
   "name": "python"
  },
  "orig_nbformat": 4
 },
 "nbformat": 4,
 "nbformat_minor": 2
}
