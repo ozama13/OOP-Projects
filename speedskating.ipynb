{
 "cells": [
  {
   "cell_type": "code",
   "execution_count": 29,
   "metadata": {},
   "outputs": [],
   "source": [
    "import pandas as pd"
   ]
  },
  {
   "cell_type": "code",
   "execution_count": 30,
   "metadata": {},
   "outputs": [],
   "source": [
    "df1=pd.read_csv(\"mens1500_2006.csv\")\n",
    "df2=pd.read_csv(\"mens1500_2010.csv\")\n",
    "df3=pd.read_csv(\"mens1500_2014.csv\")\n",
    "df4=pd.read_csv(\"mens1500_2018.csv\")\n",
    "df5=pd.read_csv(\"mens1500_2022.csv\")\n",
    "df6=pd.read_csv(\"speed_skaters.csv\")"
   ]
  },
  {
   "cell_type": "code",
   "execution_count": 31,
   "metadata": {},
   "outputs": [],
   "source": [
    "mens1500= pd.concat([df1, df2, df3, df4, df5])"
   ]
  },
  {
   "cell_type": "code",
   "execution_count": 32,
   "metadata": {},
   "outputs": [
    {
     "name": "stdout",
     "output_type": "stream",
     "text": [
      "    Rank           Athlete Country    Result  Finished  Year\n",
      "0    1.0     Enrico FABRIS     ITA  01:45.97         1  2006\n",
      "1    2.0       Shani DAVIS     USA  01:46.13         1  2006\n",
      "2    3.0      Chad HEDRICK     USA  01:46.22         1  2006\n",
      "3    4.0     Simon KUIPERS     NED  01:46.58         1  2006\n",
      "4    5.0   Erben WENNEMARS     NED  01:46.71         1  2006\n",
      "..   ...               ...     ...       ...       ...   ...\n",
      "24  25.0  Alessio TRENTINI     ITA  01:48.33         1  2022\n",
      "25  26.0     Peter MICHAEL     NZL  01:48.68         1  2022\n",
      "26  27.0        Ziwen LIAN     CHN  01:49.15         1  2022\n",
      "27  28.0      Casey DAWSON     USA  01:49.45         1  2022\n",
      "28  29.0     Mathias VOSTE     BEL  01:49.93         1  2022\n",
      "\n",
      "[182 rows x 6 columns]\n"
     ]
    }
   ],
   "source": [
    "print(mens1500)"
   ]
  },
  {
   "cell_type": "code",
   "execution_count": 33,
   "metadata": {},
   "outputs": [],
   "source": [
    "mens1500_merge = mens1500.merge(df6, left_on=\"Athlete\",right_on=\"Name\")"
   ]
  },
  {
   "cell_type": "code",
   "execution_count": 34,
   "metadata": {},
   "outputs": [
    {
     "name": "stdout",
     "output_type": "stream",
     "text": [
      "     Rank                   Athlete Country    Result  Finished  Year  \\\n",
      "0     1.0             Enrico FABRIS     ITA  01:45.97         1  2006   \n",
      "1    10.0             Enrico FABRIS     ITA  01:47.02         1  2010   \n",
      "2     2.0               Shani DAVIS     USA  01:46.13         1  2006   \n",
      "3     2.0               Shani DAVIS     USA  01:46.10         1  2010   \n",
      "4    11.0               Shani DAVIS     USA  01:45.98         1  2014   \n",
      "..    ...                       ...     ...       ...       ...   ...   \n",
      "177  22.0           Tyson LANGELAAR     CAN  01:47.81         1  2022   \n",
      "178  23.0  Antoine GELINAS-BEAULIEU     CAN  01:48.00         1  2022   \n",
      "179  25.0          Alessio TRENTINI     ITA  01:48.33         1  2022   \n",
      "180  27.0                Ziwen LIAN     CHN  01:49.15         1  2022   \n",
      "181  28.0              Casey DAWSON     USA  01:49.45         1  2022   \n",
      "\n",
      "                         Name  Birth year  Height  Weight  \n",
      "0               Enrico FABRIS        1981    1.89    80.0  \n",
      "1               Enrico FABRIS        1981    1.89    80.0  \n",
      "2                 Shani DAVIS        1982    1.88    86.0  \n",
      "3                 Shani DAVIS        1982    1.88    86.0  \n",
      "4                 Shani DAVIS        1982    1.88    86.0  \n",
      "..                        ...         ...     ...     ...  \n",
      "177           Tyson LANGELAAR        1999    1.92    85.0  \n",
      "178  Antoine GELINAS-BEAULIEU        1992    1.70    72.0  \n",
      "179          Alessio TRENTINI        1994    1.78     NaN  \n",
      "180                Ziwen LIAN        1998    1.83     NaN  \n",
      "181              Casey DAWSON        2000    1.83     NaN  \n",
      "\n",
      "[182 rows x 10 columns]\n"
     ]
    }
   ],
   "source": [
    "print(mens1500_merge)"
   ]
  },
  {
   "cell_type": "markdown",
   "metadata": {},
   "source": [
    "We are going to filter the data by selecting the American speed skaters that are 30 or under. First we are going to filter by country. We are looking for athletes that have \"USA\" in the Country column. Then we are going to filter by birthyear. Anyone born on or before 1992 will be under 30. Each boolean will be closed in parenthesis. We combine both filtering booleans with the & operator."
   ]
  },
  {
   "cell_type": "code",
   "execution_count": 35,
   "metadata": {},
   "outputs": [],
   "source": [
    "american_under_30 = mens1500_merge[(mens1500_merge[\"Country\"] == \"USA\") &\n",
    "                       (mens1500_merge[\"Birth year\"] >= 1992)]"
   ]
  },
  {
   "cell_type": "code",
   "execution_count": 36,
   "metadata": {},
   "outputs": [
    {
     "name": "stdout",
     "output_type": "stream",
     "text": [
      "     Rank       Athlete Country    Result  Finished  Year          Name  \\\n",
      "169  11.0  Emery LEHMAN     USA  01:45.78         1  2022  Emery LEHMAN   \n",
      "181  28.0  Casey DAWSON     USA  01:49.45         1  2022  Casey DAWSON   \n",
      "\n",
      "     Birth year  Height  Weight  \n",
      "169        1996    1.83    83.0  \n",
      "181        2000    1.83     NaN  \n"
     ]
    }
   ],
   "source": [
    "print(american_under_30)"
   ]
  },
  {
   "cell_type": "markdown",
   "metadata": {},
   "source": [
    "\n",
    "We used the groupby method to sort out all of the athletes based on the country they are competing for. Then we applied the max method to the birth year column to each country to find the youngest athlete in each. "
   ]
  },
  {
   "cell_type": "markdown",
   "metadata": {},
   "source": [
    "Who is the youngest speed skater from each country?"
   ]
  },
  {
   "cell_type": "code",
   "execution_count": 37,
   "metadata": {},
   "outputs": [],
   "source": [
    "youngest_skater = mens1500_merge.groupby(\"Country\")[\"Birth year\"].max()"
   ]
  },
  {
   "cell_type": "code",
   "execution_count": 38,
   "metadata": {},
   "outputs": [
    {
     "name": "stdout",
     "output_type": "stream",
     "text": [
      "Country\n",
      "BEL    1994\n",
      "CAN    2000\n",
      "CHN    1999\n",
      "EST    1996\n",
      "FIN    1979\n",
      "FRA    1989\n",
      "GBR    1994\n",
      "GER    1990\n",
      "HUN    1992\n",
      "ITA    1994\n",
      "JPN    1996\n",
      "KAZ    1996\n",
      "KOR    1999\n",
      "LAT    1986\n",
      "NED    1997\n",
      "NOR    2001\n",
      "NZL    1989\n",
      "OAR    1995\n",
      "POL    1989\n",
      "ROC    2001\n",
      "RUS    1991\n",
      "SUI    1993\n",
      "SWE    1994\n",
      "TPE    1997\n",
      "USA    2000\n",
      "Name: Birth year, dtype: int64\n"
     ]
    }
   ],
   "source": [
    "print(youngest_skater)"
   ]
  }
 ],
 "metadata": {
  "interpreter": {
   "hash": "aee8b7b246df8f9039afb4144a1f6fd8d2ca17a180786b69acc140d282b71a49"
  },
  "kernelspec": {
   "display_name": "Python 3.10.7 64-bit",
   "language": "python",
   "name": "python3"
  },
  "language_info": {
   "codemirror_mode": {
    "name": "ipython",
    "version": 3
   },
   "file_extension": ".py",
   "mimetype": "text/x-python",
   "name": "python",
   "nbconvert_exporter": "python",
   "pygments_lexer": "ipython3",
   "version": "3.10.7"
  },
  "orig_nbformat": 4
 },
 "nbformat": 4,
 "nbformat_minor": 2
}
