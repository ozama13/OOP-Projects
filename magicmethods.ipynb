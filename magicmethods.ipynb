{
 "cells": [
  {
   "cell_type": "markdown",
   "metadata": {},
   "source": [
    "Magic Methods:\n",
    "\n",
    "I will create a fruit c;ass that keeps track of the total number of fruit in a pantry."
   ]
  },
  {
   "cell_type": "code",
   "execution_count": 9,
   "metadata": {},
   "outputs": [],
   "source": [
    "class Fruit:\n",
    "    '''Creates inventory for different fruits in pantry'''\n",
    "    def __init__(self, fruit_name, count):\n",
    "        self.fruit_name = fruit_name\n",
    "        self.count = count\n",
    "    def __repr__(self):\n",
    "        return f\"There are {self.count} {self.fruit_name}s in the pantry\"\n",
    "    def __add__(self, other):\n",
    "        if not isinstance(other, Fruit):\n",
    "            raise TypeError(f\"can't add Fruit and {type(other).__name__}\" \n",
    "                            \"objects\")\n",
    "        total_fruits = self.count + other.count\n",
    "        return total_fruits\n",
    "    def __sub__(self, other):\n",
    "        if not isinstance(other, Fruit):\n",
    "            raise TypeError(f\"can't subtract Fruit and {type(other).__name__}\" \n",
    "                            \"objects\")\n",
    "        new_total = self.count - other.count\n",
    "        return new_total"
   ]
  },
  {
   "cell_type": "code",
   "execution_count": 10,
   "metadata": {},
   "outputs": [],
   "source": [
    "#instantiate class\n",
    "fruit_1 = Fruit(\"orange\", 10)\n",
    "fruit_2 = Fruit(\"apple\", 12)"
   ]
  },
  {
   "cell_type": "code",
   "execution_count": 11,
   "metadata": {},
   "outputs": [
    {
     "name": "stdout",
     "output_type": "stream",
     "text": [
      "22\n"
     ]
    }
   ],
   "source": [
    "print(fruit_1 + fruit_2)"
   ]
  },
  {
   "cell_type": "markdown",
   "metadata": {},
   "source": [
    "I could also subtract the count from the inventory."
   ]
  },
  {
   "cell_type": "code",
   "execution_count": 12,
   "metadata": {},
   "outputs": [],
   "source": [
    "#instantiate class\n",
    "fruit_3 = Fruit(\"pear\", 15)\n",
    "fruit_4 = Fruit(\"watermelon\", 3)"
   ]
  },
  {
   "cell_type": "code",
   "execution_count": 13,
   "metadata": {},
   "outputs": [
    {
     "name": "stdout",
     "output_type": "stream",
     "text": [
      "12\n"
     ]
    }
   ],
   "source": [
    "print(fruit_3 - fruit_4)"
   ]
  }
 ],
 "metadata": {
  "interpreter": {
   "hash": "aee8b7b246df8f9039afb4144a1f6fd8d2ca17a180786b69acc140d282b71a49"
  },
  "kernelspec": {
   "display_name": "Python 3.10.7 64-bit",
   "language": "python",
   "name": "python3"
  },
  "language_info": {
   "codemirror_mode": {
    "name": "ipython",
    "version": 3
   },
   "file_extension": ".py",
   "mimetype": "text/x-python",
   "name": "python",
   "nbconvert_exporter": "python",
   "pygments_lexer": "ipython3",
   "version": "3.10.7"
  },
  "orig_nbformat": 4
 },
 "nbformat": 4,
 "nbformat_minor": 2
}
