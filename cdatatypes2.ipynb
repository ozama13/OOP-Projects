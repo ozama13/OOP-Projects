{
 "cells": [
  {
   "cell_type": "markdown",
   "metadata": {},
   "source": [
    "Practice: Container Data Types 2"
   ]
  },
  {
   "cell_type": "markdown",
   "metadata": {},
   "source": [
    "Lambda Expressions\n",
    "\n",
    "A lambda expresssion is an example of an anonymous function, which are short, simple functions that can take arguments and return the result of a single expressions. A lambda expression evalutes to a function object. It can have any number of parameters, but only one expression.\n",
    "\n",
    "SYNTAX:\n",
    "lambda PARAM:EXPP\n",
    "KEY = lambda PARAM:EXPP"
   ]
  },
  {
   "cell_type": "markdown",
   "metadata": {
    "vscode": {
     "languageId": "plaintext"
    }
   },
   "source": [
    "Example:\n",
    "You can use a lambda expressions to calculate the cube of numbers in a list."
   ]
  },
  {
   "cell_type": "code",
   "execution_count": 19,
   "metadata": {},
   "outputs": [],
   "source": [
    "num_list = [1, 2, 3, 4, 5, 6]\n",
    "\n",
    "cube_list=[]"
   ]
  },
  {
   "cell_type": "markdown",
   "metadata": {},
   "source": [
    "You can use a for loop to itterate through each value in the list."
   ]
  },
  {
   "cell_type": "code",
   "execution_count": 20,
   "metadata": {},
   "outputs": [
    {
     "name": "stdout",
     "output_type": "stream",
     "text": [
      "[1, 8, 27, 64, 125, 216]\n"
     ]
    }
   ],
   "source": [
    "for num in num_list:\n",
    "    cube = lambda num: num**3\n",
    "    cube_list.append(cube(num))\n",
    "    \n",
    "print(cube_list)\n"
   ]
  },
  {
   "cell_type": "markdown",
   "metadata": {},
   "source": [
    "List Comprehension:\n",
    "\n",
    "List comprehensions helps create extract a list from another list.\n",
    "\n",
    "BASIC SYNTAX:\n",
    "[EXPR for ITERVAR in ITERABLE]"
   ]
  },
  {
   "cell_type": "markdown",
   "metadata": {},
   "source": [
    "You can also use list comprehension to derive a list from another list based on satisfying some criterion.\n",
    "\n",
    "SYNTAX:\n",
    "\n",
    "[EXPR for ITERVAR in ITERABLE if CONDITION]"
   ]
  },
  {
   "cell_type": "markdown",
   "metadata": {},
   "source": [
    "Example: \n",
    "You can use list comprehension to create a new list that contains only the colors without an \"e\" in the name."
   ]
  },
  {
   "cell_type": "code",
   "execution_count": 21,
   "metadata": {},
   "outputs": [],
   "source": [
    "colors = [\"white\", \"yellow\", \"blue\", \"red\", \"maroon\", \"black\", \"mustard\", \"coral\", \"purple\"]\n",
    "no_e_colors = []"
   ]
  },
  {
   "cell_type": "markdown",
   "metadata": {},
   "source": [
    "This is an example of how you would use a for loop to iterate through each item in the list and pull out the colors that do not have \"e\" in it:"
   ]
  },
  {
   "cell_type": "code",
   "execution_count": 22,
   "metadata": {},
   "outputs": [
    {
     "name": "stdout",
     "output_type": "stream",
     "text": [
      "['maroon', 'black', 'mustard', 'coral']\n"
     ]
    }
   ],
   "source": [
    "for color in colors:\n",
    "    if \"e\" not in color:\n",
    "        no_e_colors.append(color)\n",
    "        \n",
    "print(no_e_colors)"
   ]
  },
  {
   "cell_type": "markdown",
   "metadata": {},
   "source": [
    "This is how you would use list comprehension to do the same thing:"
   ]
  },
  {
   "cell_type": "code",
   "execution_count": 23,
   "metadata": {},
   "outputs": [
    {
     "name": "stdout",
     "output_type": "stream",
     "text": [
      "['maroon', 'black', 'mustard', 'coral']\n"
     ]
    }
   ],
   "source": [
    "colors = [\"white\", \"yellow\", \"blue\", \"red\", \"maroon\", \"black\", \"mustard\", \"coral\", \"purple\"]\n",
    "no_e_colors = [color for color in colors if not \"e\" in color]\n",
    "print(no_e_colors)"
   ]
  }
 ],
 "metadata": {
  "interpreter": {
   "hash": "aee8b7b246df8f9039afb4144a1f6fd8d2ca17a180786b69acc140d282b71a49"
  },
  "kernelspec": {
   "display_name": "Python 3.10.7 64-bit",
   "language": "python",
   "name": "python3"
  },
  "language_info": {
   "codemirror_mode": {
    "name": "ipython",
    "version": 3
   },
   "file_extension": ".py",
   "mimetype": "text/x-python",
   "name": "python",
   "nbconvert_exporter": "python",
   "pygments_lexer": "ipython3",
   "version": "3.10.7"
  },
  "orig_nbformat": 4
 },
 "nbformat": 4,
 "nbformat_minor": 2
}
