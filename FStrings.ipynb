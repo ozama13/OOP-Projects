{
 "cells": [
  {
   "cell_type": "markdown",
   "metadata": {},
   "source": [
    "Prcatice: Python Fundamentals 2"
   ]
  },
  {
   "cell_type": "markdown",
   "metadata": {},
   "source": [
    "Formatted String Literals (f-strings)\n",
    "\n",
    "A string is a piece of code that contains text. Strings are a container data type for storing multiple characters in an ordered sequence. Strings are immutable.\n",
    "\n",
    "A string literal is a fixed value within a program.\n",
    "For example:"
   ]
  },
  {
   "cell_type": "code",
   "execution_count": 1,
   "metadata": {},
   "outputs": [
    {
     "name": "stdout",
     "output_type": "stream",
     "text": [
      "Learn about F-strings\n"
     ]
    }
   ],
   "source": [
    "x = \"Learn about F-strings\"\n",
    "print(x)"
   ]
  },
  {
   "cell_type": "markdown",
   "metadata": {},
   "source": [
    "You can use single and double quotes interchangeable. You use triple-quoted string literals when they contain speial charcaters or line breaks. Also, you can use a backslash before a special charcater or a /n to break up lines.\n",
    "\n",
    "For example:"
   ]
  },
  {
   "cell_type": "code",
   "execution_count": null,
   "metadata": {},
   "outputs": [],
   "source": [
    "y='\"I don\\'t know.\"'\n",
    "print(y)"
   ]
  },
  {
   "cell_type": "code",
   "execution_count": 2,
   "metadata": {},
   "outputs": [
    {
     "name": "stdout",
     "output_type": "stream",
     "text": [
      "Olivia Zama, \n",
      " Class of 2023\n"
     ]
    }
   ],
   "source": [
    "w=\"Olivia Zama, \\nClass of 2023\"\n",
    "print(w)"
   ]
  },
  {
   "cell_type": "markdown",
   "metadata": {},
   "source": [
    "You can use the + opertator to join together strings. \n",
    "SYNTAX:\n",
    "\"String1\" + \"String2\"\n",
    "for example:"
   ]
  },
  {
   "cell_type": "code",
   "execution_count": 4,
   "metadata": {},
   "outputs": [
    {
     "name": "stdout",
     "output_type": "stream",
     "text": [
      "Hello People\n"
     ]
    }
   ],
   "source": [
    "p = \"Hello\"\n",
    "t= \"People\"\n",
    "print(p+\" \" +t)"
   ]
  },
  {
   "cell_type": "markdown",
   "metadata": {},
   "source": [
    "Acessing Individual Charcaters\n",
    "Each characters in a string literal can be indexed to access a charcater at a particular position. The first character would be index 0. Also, you can go from the end to the beginning using a negative index.\n",
    "\n",
    "SYNTAX: \n",
    "variable[index number]\n",
    "\n",
    "For example:\n",
    "1. How to find the first charcater in dragonfruit\n",
    "2. How to find the last letter in dragonfruit"
   ]
  },
  {
   "cell_type": "code",
   "execution_count": 5,
   "metadata": {},
   "outputs": [
    {
     "name": "stdout",
     "output_type": "stream",
     "text": [
      "d\n",
      "t\n"
     ]
    }
   ],
   "source": [
    "fruit = \"dragonfruit\"\n",
    "first= fruit[0]\n",
    "last = fruit[-1]\n",
    "print(first)\n",
    "print(last)"
   ]
  },
  {
   "cell_type": "markdown",
   "metadata": {},
   "source": [
    "Acccessing a range of characters:\n",
    "\n",
    "You can also use indexing to find a specific range of characters within a string literal. \n",
    "\n",
    "SYNTAX:\n",
    "str|START|STOP|\n",
    "\n",
    "This includes the START until right before the last one in the specified index.\n",
    "\n",
    "str|START|STOP||STEP|\n",
    "\n",
    "This includes the START character but not the STOP\n",
    "\n",
    "For example:"
   ]
  },
  {
   "cell_type": "code",
   "execution_count": null,
   "metadata": {},
   "outputs": [],
   "source": [
    "fruit = \"dragonfruit\"\n",
    "print(fruit[0:2])\n",
    "print(fruit[2:5])"
   ]
  },
  {
   "cell_type": "markdown",
   "metadata": {},
   "source": [
    "You can use the built-in function len() to access the length of a string.\n",
    "\n",
    "SYNTAX:\n",
    "len(str)\n",
    "\n",
    "For example:"
   ]
  },
  {
   "cell_type": "code",
   "execution_count": null,
   "metadata": {},
   "outputs": [],
   "source": [
    "fruit = \"dragonfruit\"\n",
    "len(fruit)"
   ]
  },
  {
   "cell_type": "markdown",
   "metadata": {},
   "source": [
    "Python Lists\n",
    "\n",
    "Lists are another container data type. Lists contain objects in an ordered seqeunce. Any operation done on a string can be done on a list, however lists are mutable.\n",
    "\n",
    "SYNTAX:\n",
    "list() or list[]\n",
    "\n",
    "['ITEM1', 'ITEM2', 'ITEM3',....]"
   ]
  },
  {
   "cell_type": "code",
   "execution_count": 6,
   "metadata": {},
   "outputs": [
    {
     "name": "stdout",
     "output_type": "stream",
     "text": [
      "['strawberries', 'pineapple', 'pear']\n",
      "['banana', 'strawberries', 'pineapple']\n",
      "['dragonfruit', 'banana', 'strawberries', 'pineapple']\n",
      "['strawberries', 'pineapple', 'pear', 'apples']\n",
      "['banana', 'pineapple', 'apples']\n"
     ]
    }
   ],
   "source": [
    "l = ['dragonfruit', 'banana', 'strawberries', 'pineapple', 'pear', 'apples']\n",
    "print(l[2:5])\n",
    "print(l[-5:-2])\n",
    "print(l[:4])\n",
    "print(l[2:])\n",
    "print(l[1:6:2])"
   ]
  },
  {
   "cell_type": "code",
   "execution_count": 10,
   "metadata": {},
   "outputs": [
    {
     "name": "stdout",
     "output_type": "stream",
     "text": [
      "11\n",
      "6\n"
     ]
    }
   ],
   "source": [
    "\n",
    "l = ['dragonfruit', 'banana', 'strawberries', 'pineapple', 'pear', 'apples']\n",
    "print(len(l[0]))\n",
    "print(len(l))"
   ]
  },
  {
   "cell_type": "markdown",
   "metadata": {},
   "source": [
    "Since lists are mutable, you can change the value of an object in the list. \n",
    "\n",
    "SYNTAX: \n",
    "list[index]= new value\n"
   ]
  },
  {
   "cell_type": "code",
   "execution_count": 11,
   "metadata": {},
   "outputs": [
    {
     "name": "stdout",
     "output_type": "stream",
     "text": [
      "['dragonfruit', 'blueberries', 'strawberries', 'pineapple', 'pear', 'apples']\n"
     ]
    }
   ],
   "source": [
    "l = ['dragonfruit', 'banana', 'strawberries', 'pineapple', 'pear', 'apples']\n",
    "l[1]='blueberries'\n",
    "print(l)"
   ]
  },
  {
   "cell_type": "markdown",
   "metadata": {},
   "source": [
    "Also, you can add to a list.\n",
    "\n",
    "SYNTAX:\n",
    "listname.append(newvalue)"
   ]
  },
  {
   "cell_type": "code",
   "execution_count": 12,
   "metadata": {},
   "outputs": [
    {
     "name": "stdout",
     "output_type": "stream",
     "text": [
      "['dragonfruit', 'banana', 'strawberries', 'pineapple', 'pear', 'apples', 'mango']\n"
     ]
    }
   ],
   "source": [
    "l = ['dragonfruit', 'banana', 'strawberries', 'pineapple', 'pear', 'apples']\n",
    "l.append('mango')\n",
    "print(l)"
   ]
  },
  {
   "cell_type": "markdown",
   "metadata": {},
   "source": [
    "Opening Files w/ with\n",
    "\n",
    "File objects are used to interact with files in Python. You can create file objects using the open() function. After you are down with a file, you must close it.\n",
    "\n",
    "The built-in function with() lets you use the file object as a context manager. This means that the files will close themselves.\n",
    "\n",
    "SYNTAX:\n",
    "\n",
    "with CONTENT_EXPR as VARNAME:BODY\n",
    "\n",
    "\n"
   ]
  },
  {
   "cell_type": "markdown",
   "metadata": {},
   "source": [
    "You can iterate through the lines of a file using a for loop.\n",
    "\n",
    "SYNTAX:\n",
    "for line in filename:\n",
    "\n",
    "Below I will show an example of opening a file using the with() function and for loop to iterate through a text file."
   ]
  },
  {
   "cell_type": "code",
   "execution_count": 10,
   "metadata": {},
   "outputs": [
    {
     "name": "stdout",
     "output_type": "stream",
     "text": [
      "{\\rtf1\\ansi\\ansicpg1252\\cocoartf2639\n",
      "\n",
      "\\cocoatextscaling0\\cocoaplatform0{\\fonttbl\\f0\\fswiss\\fcharset0 Helvetica;}\n",
      "\n",
      "{\\colortbl;\\red255\\green255\\blue255;}\n",
      "\n",
      "{\\*\\expandedcolortbl;;}\n",
      "\n",
      "\\margl1440\\margr1440\\vieww11520\\viewh8400\\viewkind0\n",
      "\n",
      "\\pard\\tx720\\tx1440\\tx2160\\tx2880\\tx3600\\tx4320\\tx5040\\tx5760\\tx6480\\tx7200\\tx7920\\tx8640\\pardirnatural\\partightenfactor0\n",
      "\n",
      "\n",
      "\n",
      "\\f0\\fs24 \\cf0 I like dragonfruit refreshers\\\n",
      "\n",
      "I like mango\\\n",
      "\n",
      "I like smoothies}\n"
     ]
    }
   ],
   "source": [
    "with open('practicefile.rtf',\"r\", encoding=\"utf-8\") as f:\n",
    "    for line in f:\n",
    "        print(line)\n",
    "        "
   ]
  }
 ],
 "metadata": {
  "interpreter": {
   "hash": "aee8b7b246df8f9039afb4144a1f6fd8d2ca17a180786b69acc140d282b71a49"
  },
  "kernelspec": {
   "display_name": "Python 3.10.7 64-bit",
   "language": "python",
   "name": "python3"
  },
  "language_info": {
   "codemirror_mode": {
    "name": "ipython",
    "version": 3
   },
   "file_extension": ".py",
   "mimetype": "text/x-python",
   "name": "python",
   "nbconvert_exporter": "python",
   "pygments_lexer": "ipython3",
   "version": "3.10.7"
  },
  "orig_nbformat": 4
 },
 "nbformat": 4,
 "nbformat_minor": 2
}
